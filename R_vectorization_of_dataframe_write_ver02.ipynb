{
 "cells": [
  {
   "cell_type": "markdown",
   "metadata": {},
   "source": [
    "# Vectorization of Dataframe Write for Filling Missing Values"
   ]
  },
  {
   "cell_type": "markdown",
   "metadata": {},
   "source": [
    "Accessing large dataframes can be computationally expensive.  What follows are two methods for vectorizing the process of writing to a dataframe when filling in missing values.  We often want to fill in missing values when pre-processing a dataset for model construction and analysis.\n",
    "\n",
    "The first method set out below, what I will call the \"**named vector**\" approach, is about 4 to 8 times faster than sequentially walking through the \"cells\" indexed by (row, column) pairs.  The second method, what I will call the \"**transposed columns**\" approach, can be more than 100 times faster than the \"**sequential walk-through**\" approach.  The comparative measures given here (4-8X, 100X) are very rough estimates and depend on the size of the dataframe, the number of columns having missing values, the number of missing values, and possibly how we are imputing values for each of the different column variables.  In the tests that follow, I use the same imputation approach for all variables, replacing a missing value for a variable with the median of its existing values.  In the tests that follow I *only vary the number of missing values in the dataframe I am working with*.\n",
    "\n",
    "Given that the Transposed Columns approach is so much faster, why even bother with the Named Vector approach?  I do so because the latter oftentimes has value in other contexts.  Also, until I tried it out for this task, I did not know how much it would improve upon the Sequential Walk-Through approach.  When I saw that the improvement was far less than what I expected, I looked for a better method.  No doubt, with a little more investment of time, one can also improve upon the Transposed Columns approach.  It may be hard to beat, though, for its simplicity relative to its effectiveness; one does not have to be an expert in R to make sense of how it works.\n",
    "\n",
    "\n",
    "                                         * * * * *"
   ]
  },
  {
   "cell_type": "markdown",
   "metadata": {},
   "source": [
    "## Preliminaries"
   ]
  },
  {
   "cell_type": "code",
   "execution_count": 1,
   "metadata": {},
   "outputs": [
    {
     "name": "stdout",
     "output_type": "stream",
     "text": [
      "[1] 20423    15\n",
      " [1] \"longitude\"          \"latitude\"           \"housing_median_age\"\n",
      " [4] \"total_rooms\"        \"total_bedrooms\"     \"population\"        \n",
      " [7] \"households\"         \"median_income\"      \"median_house_value\"\n",
      "[10] \"ocean_proximity\"    \"HHdensity\"          \"HHdens_ln\"         \n",
      "[13] \"rooms_per_hh\"       \"bdrms_per_room\"     \"pop_per_hh\"        \n"
     ]
    }
   ],
   "source": [
    "# I make use of the dataset that I work with in my CA_housing project.\n",
    "\n",
    "\n",
    "modDat <- read.csv(\"/home/greg/Documents/stat/Geron_ML/datasets/housing/hhRAW_with_HHdens.csv\",\n",
    "                   header = T, \n",
    "                   colClasses= c(rep(\"numeric\", 9), rep(\"character\", 2), rep(\"numeric\", 4)))\n",
    "print(dim(modDat))\n",
    "# [1] 20423    15\n",
    "\n",
    "print(colnames(modDat))\n"
   ]
  },
  {
   "cell_type": "code",
   "execution_count": 2,
   "metadata": {},
   "outputs": [
    {
     "data": {
      "text/html": [
       "<style>\n",
       ".list-inline {list-style: none; margin:0; padding: 0}\n",
       ".list-inline>li {display: inline-block}\n",
       ".list-inline>li:not(:last-child)::after {content: \"\\00b7\"; padding: 0 .5ex}\n",
       "</style>\n",
       "<ol class=list-inline><li>'longitude'</li><li>'latitude'</li><li>'housing_median_age'</li><li>'total_rooms'</li><li>'total_bedrooms'</li><li>'population'</li><li>'households'</li><li>'median_income'</li><li>'median_house_value'</li><li>'HHdens_ln'</li><li>'rooms_per_hh'</li><li>'bdrms_per_room'</li><li>'pop_per_hh'</li></ol>\n"
      ],
      "text/latex": [
       "\\begin{enumerate*}\n",
       "\\item 'longitude'\n",
       "\\item 'latitude'\n",
       "\\item 'housing\\_median\\_age'\n",
       "\\item 'total\\_rooms'\n",
       "\\item 'total\\_bedrooms'\n",
       "\\item 'population'\n",
       "\\item 'households'\n",
       "\\item 'median\\_income'\n",
       "\\item 'median\\_house\\_value'\n",
       "\\item 'HHdens\\_ln'\n",
       "\\item 'rooms\\_per\\_hh'\n",
       "\\item 'bdrms\\_per\\_room'\n",
       "\\item 'pop\\_per\\_hh'\n",
       "\\end{enumerate*}\n"
      ],
      "text/markdown": [
       "1. 'longitude'\n",
       "2. 'latitude'\n",
       "3. 'housing_median_age'\n",
       "4. 'total_rooms'\n",
       "5. 'total_bedrooms'\n",
       "6. 'population'\n",
       "7. 'households'\n",
       "8. 'median_income'\n",
       "9. 'median_house_value'\n",
       "10. 'HHdens_ln'\n",
       "11. 'rooms_per_hh'\n",
       "12. 'bdrms_per_room'\n",
       "13. 'pop_per_hh'\n",
       "\n",
       "\n"
      ],
      "text/plain": [
       " [1] \"longitude\"          \"latitude\"           \"housing_median_age\"\n",
       " [4] \"total_rooms\"        \"total_bedrooms\"     \"population\"        \n",
       " [7] \"households\"         \"median_income\"      \"median_house_value\"\n",
       "[10] \"HHdens_ln\"          \"rooms_per_hh\"       \"bdrms_per_room\"    \n",
       "[13] \"pop_per_hh\"        "
      ]
     },
     "metadata": {},
     "output_type": "display_data"
    }
   ],
   "source": [
    "# Here I am not interested in working with the categorical data.\n",
    "\n",
    "df <- modDat[, c(1:9, 12:15)]\n",
    "colnames(df)\n"
   ]
  },
  {
   "cell_type": "code",
   "execution_count": 3,
   "metadata": {},
   "outputs": [
    {
     "data": {
      "text/html": [
       "<style>\n",
       ".list-inline {list-style: none; margin:0; padding: 0}\n",
       ".list-inline>li {display: inline-block}\n",
       ".list-inline>li:not(:last-child)::after {content: \"\\00b7\"; padding: 0 .5ex}\n",
       "</style>\n",
       "<ol class=list-inline><li>20423</li><li>13</li></ol>\n"
      ],
      "text/latex": [
       "\\begin{enumerate*}\n",
       "\\item 20423\n",
       "\\item 13\n",
       "\\end{enumerate*}\n"
      ],
      "text/markdown": [
       "1. 20423\n",
       "2. 13\n",
       "\n",
       "\n"
      ],
      "text/plain": [
       "[1] 20423    13"
      ]
     },
     "metadata": {},
     "output_type": "display_data"
    }
   ],
   "source": [
    "# There are 13 columns in df.\n",
    "\n",
    "dim(df)\n"
   ]
  },
  {
   "cell_type": "markdown",
   "metadata": {},
   "source": [
    "## Sequential Walk-Through Approach"
   ]
  },
  {
   "cell_type": "markdown",
   "metadata": {},
   "source": [
    "If our dataset is small, we can simply walk through the cells of the dataframe and replace missing values as we find them.  With larger datasets, this method is very inefficient!\n"
   ]
  },
  {
   "cell_type": "code",
   "execution_count": null,
   "metadata": {},
   "outputs": [],
   "source": [
    "# We must first create some missing values in df.\n",
    "\n",
    "# Insert NA in 10,000 randomly selected cells of the dataframe.\n",
    "# df has 265,499 cells.\n",
    "\n",
    "set.seed(4331)\n",
    "n <- 10000\n",
    "yy <- sample(1:13, n, replace= TRUE)\n",
    "xx <- sample(1:nrow(df), n, replace= FALSE)\n",
    "\n",
    "for(i in 1:n) {\n",
    "  df[xx[i], yy[i]] <- NA\n",
    "}\n"
   ]
  },
  {
   "cell_type": "code",
   "execution_count": 6,
   "metadata": {},
   "outputs": [
    {
     "name": "stdout",
     "output_type": "stream",
     "text": [
      "        1         2         3         4         5         6         7         8 \n",
      "  -118.49     34.26     29.00   2127.00    435.00   1166.00    409.00      3.54 \n",
      "        9        10        11        12        13 \n",
      "179700.00      7.72      5.23      0.20      2.82 \n"
     ]
    }
   ],
   "source": [
    "# Compute the median of each variable.  Note that this computation has\n",
    "# to be done every time we create a new set of missing values in df.\n",
    "\n",
    "imputed_vals <- rep(NA, dim(df)[2])\n",
    "for(i in 1:length(imputed_vals)) {\n",
    "  imputed_vals[i] <- median(df[, i], na.rm= TRUE)\n",
    "}\n",
    "named_imputed_vals <- imputed_vals\n",
    "names(named_imputed_vals) <- 1:13\n",
    "print(round(named_imputed_vals, 2))\n"
   ]
  },
  {
   "cell_type": "code",
   "execution_count": 7,
   "metadata": {},
   "outputs": [
    {
     "data": {
      "text/plain": [
       "Time difference of 1.963 secs"
      ]
     },
     "metadata": {},
     "output_type": "display_data"
    }
   ],
   "source": [
    "# Measure the time it takes to fill in these 10K missing values.\n",
    "\n",
    "start <- Sys.time()\n",
    "for(i in 1:dim(df)[1]) {\n",
    "  for(j in 1:dim(df)[2]) {\n",
    "    if(is.na(df[i, j])) {\n",
    "      df[i, j] <- imputed_vals[j]\n",
    "    }\n",
    "  }\n",
    "}\n",
    "stop <- Sys.time()\n",
    "round(stop - start, 4)\n",
    "# Time difference of 1.963 secs\n"
   ]
  },
  {
   "cell_type": "markdown",
   "metadata": {},
   "source": [
    "**Sequential Walk-Through single test results for 10K NAs:**  1.963 seconds\n"
   ]
  },
  {
   "cell_type": "code",
   "execution_count": null,
   "metadata": {},
   "outputs": [],
   "source": [
    "### COMMENT:\n",
    "\n",
    "# For this approach, I am not going to verify that the missing\n",
    "# values have been filled in as expected.  \n"
   ]
  },
  {
   "cell_type": "markdown",
   "metadata": {},
   "source": [
    "### Sequential Walk-Through Results for 100 trials: *smaller* sets of NAs"
   ]
  },
  {
   "cell_type": "code",
   "execution_count": 4,
   "metadata": {},
   "outputs": [],
   "source": [
    "# Create 100 trial sizes:\n",
    "\n",
    "set.seed(99871)\n",
    "smp <- sample(2000:20000, 100, replace= FALSE)\n"
   ]
  },
  {
   "cell_type": "code",
   "execution_count": 5,
   "metadata": {},
   "outputs": [],
   "source": [
    "# This function constructs a dataframe with missing values\n",
    "# and then sequentially fills in the missing values.\n",
    "\n",
    "method_direct <- function(n_vals, seed) {\n",
    "  \n",
    "  df <- modDat[, c(1:9, 12:15)]\n",
    "  set.seed(seed)\n",
    "  yy <- sample(1:13, n_vals, replace= TRUE)\n",
    "  xx <- sample(1:nrow(df), n_vals, replace= TRUE)\n",
    "  \n",
    "  for(i in 1:n_vals) {\n",
    "    df[xx[i], yy[i]] <- NA\n",
    "  }\n",
    "  \n",
    "  imputed_vals <- rep(NA, dim(df)[2])\n",
    "  for(i in 1:length(imputed_vals)) {\n",
    "    imputed_vals[i] <- median(df[, i], na.rm= TRUE)\n",
    "  }\n",
    "  \n",
    "  # This is the part for which we need a time.\n",
    "  start <- Sys.time()\n",
    "  for(i in 1:dim(df)[1]) {\n",
    "    for(j in 1:dim(df)[2]) {\n",
    "      if(is.na(df[i, j])) {\n",
    "        df[i, j] <- imputed_vals[j]\n",
    "      }\n",
    "    }\n",
    "  }\n",
    "  stop <- Sys.time()\n",
    "  delta <- as.numeric(stop - start)\n",
    "  \n",
    "  return(delta)\n",
    "}\n"
   ]
  },
  {
   "cell_type": "code",
   "execution_count": 6,
   "metadata": {},
   "outputs": [
    {
     "data": {
      "text/html": [
       "2.2681"
      ],
      "text/latex": [
       "2.2681"
      ],
      "text/markdown": [
       "2.2681"
      ],
      "text/plain": [
       "[1] 2.2681"
      ]
     },
     "metadata": {},
     "output_type": "display_data"
    }
   ],
   "source": [
    "# Run the test.\n",
    "\n",
    "result <- 0\n",
    "for(i in 1:length(smp)) {\n",
    "  seed <- 8871 * i\n",
    "  swt_time <- method_direct(smp[i], seed)\n",
    "  result <- result + swt_time\n",
    "}\n",
    "(swt_avg_time_tst01 <- round(result/length(smp), 4))\n",
    "# 2.2681 seconds\n"
   ]
  },
  {
   "cell_type": "markdown",
   "metadata": {},
   "source": [
    "**Sequential Walk-Through 100 trials, test01 average time:**    **2.2681 seconds**\n"
   ]
  },
  {
   "cell_type": "markdown",
   "metadata": {},
   "source": [
    "### Sequential Walk-Through Results for 100 trials: *larger* sets of NAs"
   ]
  },
  {
   "cell_type": "code",
   "execution_count": 7,
   "metadata": {},
   "outputs": [],
   "source": [
    "# Get trial sizes.  Keep in mind that df has 265,499 cells.  If\n",
    "# 50K cells have missing values, that equates to almost 19% of \n",
    "# the dataframe cells having missing values.\n",
    "\n",
    "set.seed(99871)\n",
    "smp <- sample(20000:50000, 100, replace= FALSE)\n"
   ]
  },
  {
   "cell_type": "code",
   "execution_count": 8,
   "metadata": {},
   "outputs": [
    {
     "data": {
      "text/html": [
       "3.0131"
      ],
      "text/latex": [
       "3.0131"
      ],
      "text/markdown": [
       "3.0131"
      ],
      "text/plain": [
       "[1] 3.0131"
      ]
     },
     "metadata": {},
     "output_type": "display_data"
    }
   ],
   "source": [
    "# Run the test.\n",
    "\n",
    "result <- 0\n",
    "for(i in 1:length(smp)) {\n",
    "  seed <- 8871 * i\n",
    "  swt_time <- method_direct(smp[i], seed)\n",
    "  result <- result + swt_time\n",
    "}\n",
    "(swt_avg_time_tst02 <- round(result/length(smp), 4))\n",
    "# 3.0131\n"
   ]
  },
  {
   "cell_type": "markdown",
   "metadata": {},
   "source": [
    "**Sequential Walk-Through 100 trials, test02 average time:**    **3.0131 seconds**\n"
   ]
  },
  {
   "cell_type": "markdown",
   "metadata": {},
   "source": [
    "## Named Vector Approach"
   ]
  },
  {
   "cell_type": "markdown",
   "metadata": {},
   "source": [
    "Here is one way to vectorize the above process.\n"
   ]
  },
  {
   "cell_type": "code",
   "execution_count": 13,
   "metadata": {},
   "outputs": [],
   "source": [
    "df <- modDat[, c(1:9, 12:15)]\n"
   ]
  },
  {
   "cell_type": "code",
   "execution_count": 14,
   "metadata": {},
   "outputs": [],
   "source": [
    "# We must first create some missing values in df.\n",
    "\n",
    "# As above, initially insert NA in 10,000 randomly \n",
    "# selected cells of the dataframe.  The same \n",
    "# seed is used from the above, corresponding test.\n",
    "\n",
    "set.seed(4331)\n",
    "n <- 10000\n",
    "yy <- sample(1:13, n, replace= TRUE)\n",
    "xx <- sample(1:nrow(df), n, replace= FALSE)\n",
    "\n",
    "for(i in 1:n) {\n",
    "  df[xx[i], yy[i]] <- NA\n",
    "}\n"
   ]
  },
  {
   "cell_type": "code",
   "execution_count": 15,
   "metadata": {},
   "outputs": [
    {
     "name": "stdout",
     "output_type": "stream",
     "text": [
      "        1         2         3         4         5         6         7         8 \n",
      "  -118.50     34.26     29.00   2125.00    436.00   1165.50    409.00      3.53 \n",
      "        9        10        11        12        13 \n",
      "179800.00      7.72      5.23      0.20      2.82 \n"
     ]
    }
   ],
   "source": [
    "# Compute the median of each variable. \n",
    "\n",
    "imputed_vals <- rep(NA, dim(df)[2])\n",
    "for(i in 1:length(imputed_vals)) {\n",
    "  imputed_vals[i] <- median(df[, i], na.rm= TRUE)\n",
    "}\n",
    "named_imputed_vals <- imputed_vals\n",
    "names(named_imputed_vals) <- 1:13\n",
    "print(round(named_imputed_vals, 2))\n"
   ]
  },
  {
   "cell_type": "code",
   "execution_count": null,
   "metadata": {},
   "outputs": [],
   "source": [
    "require(stringr)\n"
   ]
  },
  {
   "cell_type": "code",
   "execution_count": 16,
   "metadata": {},
   "outputs": [],
   "source": [
    "# Two functions needed for this approach:\n",
    "\n",
    "get_column <- function(cell_name) {\n",
    "  index <- as.numeric(str_locate(cell_name, \"_\")[1]) + 1\n",
    "  return(as.numeric(substr(cell_name, index, 100)))\n",
    "}\n",
    "\n",
    "get_row <- function(cell_name) {\n",
    "  index <- as.numeric(str_locate(cell_name, \"_\")[1]) - 1\n",
    "  return(as.numeric(substr(cell_name, 1, index)))\n",
    "}\n"
   ]
  },
  {
   "cell_type": "code",
   "execution_count": 17,
   "metadata": {},
   "outputs": [
    {
     "data": {
      "text/html": [
       "10000"
      ],
      "text/latex": [
       "10000"
      ],
      "text/markdown": [
       "10000"
      ],
      "text/plain": [
       "[1] 10000"
      ]
     },
     "metadata": {},
     "output_type": "display_data"
    },
    {
     "data": {
      "text/html": [
       "<style>\n",
       ".list-inline {list-style: none; margin:0; padding: 0}\n",
       ".list-inline>li {display: inline-block}\n",
       ".list-inline>li:not(:last-child)::after {content: \"\\00b7\"; padding: 0 .5ex}\n",
       "</style>\n",
       "<ol class=list-inline><li>'1_5'</li><li>'2_12'</li><li>'8_11'</li><li>'10_11'</li><li>'15_12'</li><li>'18_7'</li></ol>\n"
      ],
      "text/latex": [
       "\\begin{enumerate*}\n",
       "\\item '1\\_5'\n",
       "\\item '2\\_12'\n",
       "\\item '8\\_11'\n",
       "\\item '10\\_11'\n",
       "\\item '15\\_12'\n",
       "\\item '18\\_7'\n",
       "\\end{enumerate*}\n"
      ],
      "text/markdown": [
       "1. '1_5'\n",
       "2. '2_12'\n",
       "3. '8_11'\n",
       "4. '10_11'\n",
       "5. '15_12'\n",
       "6. '18_7'\n",
       "\n",
       "\n"
      ],
      "text/plain": [
       "[1] \"1_5\"   \"2_12\"  \"8_11\"  \"10_11\" \"15_12\" \"18_7\" "
      ]
     },
     "metadata": {},
     "output_type": "display_data"
    },
    {
     "data": {
      "text/plain": [
       "Time difference of 0.4226 secs"
      ]
     },
     "metadata": {},
     "output_type": "display_data"
    }
   ],
   "source": [
    "# Measure the time it takes to fill in the 10K missing values.\n",
    "\n",
    "start <- Sys.time()\n",
    "# Create cell names.\n",
    "suffixes <- paste(rep(\"_\", dim(df)[2]), as.character(1:dim(df)[2]), sep=\"\")\n",
    "prefixes <- as.character(1:dim(df)[1])\n",
    "\n",
    "first_arg <- as.vector(mapply(rep, prefixes, rep(dim(df)[2], length(prefixes))))\n",
    "vnames <- paste(first_arg, rep(suffixes, length(prefixes)), sep=\"\")\n",
    "\n",
    "# Here is df in flattened form:\n",
    "df_flat <- as.list(t(df))\n",
    "names(df_flat) <- vnames\n",
    "\n",
    "\n",
    "# Identify the cells in df with missing values.\n",
    "missing <- names(which(is.na(df_flat)))\n",
    "length(missing)\n",
    "# [1] 10000\n",
    "head(missing)\n",
    "# [1] \"1_5\"   \"2_12\"  \"8_11\"  \"10_11\" \"15_12\" \"18_7\" \n",
    "\n",
    "\n",
    "miss_cols <- mapply(get_column, missing)\n",
    "names(miss_cols) <- missing\n",
    "miss_rows <- mapply(get_row, missing)\n",
    "names(miss_rows) <- missing\n",
    "\n",
    "# Fill the missing values in each column.\n",
    "for(i in 1:dim(df)[2]) {\n",
    "  cells <- names(miss_cols[as.numeric(miss_cols)== i])\n",
    "  rows <-as.numeric(miss_rows[cells])\n",
    "  df[rows, i] <- imputed_vals[i]\n",
    "}\n",
    "\n",
    "stop <- Sys.time()\n",
    "round(stop - start, 4)\n",
    "# Time difference of 0.4521 secs\n"
   ]
  },
  {
   "cell_type": "markdown",
   "metadata": {},
   "source": [
    "**Named vector single test results for 10K NAs:  0.4226 seconds**\n"
   ]
  },
  {
   "cell_type": "code",
   "execution_count": 18,
   "metadata": {},
   "outputs": [
    {
     "data": {
      "text/html": [
       "<style>\n",
       ".list-inline {list-style: none; margin:0; padding: 0}\n",
       ".list-inline>li {display: inline-block}\n",
       ".list-inline>li:not(:last-child)::after {content: \"\\00b7\"; padding: 0 .5ex}\n",
       "</style>\n",
       "<ol class=list-inline><li>'1_5'</li><li>'2_12'</li><li>'8_11'</li><li>'10_11'</li><li>'15_12'</li><li>'18_7'</li></ol>\n"
      ],
      "text/latex": [
       "\\begin{enumerate*}\n",
       "\\item '1\\_5'\n",
       "\\item '2\\_12'\n",
       "\\item '8\\_11'\n",
       "\\item '10\\_11'\n",
       "\\item '15\\_12'\n",
       "\\item '18\\_7'\n",
       "\\end{enumerate*}\n"
      ],
      "text/markdown": [
       "1. '1_5'\n",
       "2. '2_12'\n",
       "3. '8_11'\n",
       "4. '10_11'\n",
       "5. '15_12'\n",
       "6. '18_7'\n",
       "\n",
       "\n"
      ],
      "text/plain": [
       "[1] \"1_5\"   \"2_12\"  \"8_11\"  \"10_11\" \"15_12\" \"18_7\" "
      ]
     },
     "metadata": {},
     "output_type": "display_data"
    }
   ],
   "source": [
    "# Check that the missing values were correctly filled in.\n",
    "\n",
    "head(missing) \n"
   ]
  },
  {
   "cell_type": "code",
   "execution_count": 19,
   "metadata": {},
   "outputs": [
    {
     "name": "stdout",
     "output_type": "stream",
     "text": [
      "  1_5  2_12  8_11 10_11 15_12  18_7 \n",
      "    5    12    11    11    12     7 \n",
      "  1_5  2_12  8_11 10_11 15_12  18_7 \n",
      "    1     2     8    10    15    18 \n"
     ]
    }
   ],
   "source": [
    "print(head(miss_cols))\n",
    "print(head(miss_rows))\n"
   ]
  },
  {
   "cell_type": "code",
   "execution_count": 20,
   "metadata": {},
   "outputs": [
    {
     "data": {
      "text/html": [
       "'All is good!'"
      ],
      "text/latex": [
       "'All is good!'"
      ],
      "text/markdown": [
       "'All is good!'"
      ],
      "text/plain": [
       "[1] \"All is good!\""
      ]
     },
     "metadata": {},
     "output_type": "display_data"
    }
   ],
   "source": [
    "# We see from the following test that all missing values have been\n",
    "# correctly filled in.\n",
    "\n",
    "all_good <- FALSE\n",
    "incorrect <- 0\n",
    "for(i in 1:length(missing)) {\n",
    "    val <- round(df[as.numeric(miss_rows[i]), as.numeric(miss_cols[i])], 2)\n",
    "    true_val <- round(imputed_vals[miss_cols[i]], 2)\n",
    "    if(val != true_val) { incorrect <- incorrect + 1 }\n",
    "}\n",
    "if(incorrect == 0) { all_good <- TRUE }\n",
    "ifelse(all_good, \"All is good!\", \"Fill did not work!\")\n"
   ]
  },
  {
   "cell_type": "markdown",
   "metadata": {},
   "source": [
    "### Named Vector Results for 100 trials: *smaller* sets of NAs"
   ]
  },
  {
   "cell_type": "code",
   "execution_count": 21,
   "metadata": {},
   "outputs": [],
   "source": [
    "# Create trial sizes exactly as in the corresponding test above:\n",
    "\n",
    "set.seed(99871)\n",
    "smp <- sample(2000:20000, 100, replace= FALSE)\n"
   ]
  },
  {
   "cell_type": "code",
   "execution_count": 22,
   "metadata": {},
   "outputs": [],
   "source": [
    "# This function constructs a dataframe with missing values\n",
    "# and then fills in the missing values using the above Named\n",
    "# Vector approach.\n",
    "\n",
    "method_vector <- function(n_vals, seed) {\n",
    "  \n",
    "  df <- modDat[, c(1:9, 12:15)]\n",
    "  set.seed(seed)\n",
    "  yy <- sample(1:13, n_vals, replace= TRUE)\n",
    "  xx <- sample(1:nrow(df), n_vals, replace= TRUE)\n",
    "  \n",
    "  for(i in 1:n_vals) {\n",
    "    df[xx[i], yy[i]] <- NA\n",
    "  }\n",
    "  \n",
    "  imputed_vals <- rep(NA, dim(df)[2])\n",
    "  for(i in 1:length(imputed_vals)) {\n",
    "    imputed_vals[i] <- median(df[, i], na.rm= TRUE)\n",
    "  }\n",
    "\n",
    "  start <- Sys.time()\n",
    "  # Create cell names.\n",
    "  suffixes <- paste(rep(\"_\", dim(df)[2]), as.character(1:dim(df)[2]), sep=\"\")\n",
    "  prefixes <- as.character(1:dim(df)[1])\n",
    "  first_arg <- as.vector(mapply(rep, prefixes, rep(dim(df)[2], length(prefixes))))\n",
    "  vnames <- paste(first_arg, rep(suffixes, length(prefixes)), sep=\"\")\n",
    "  \n",
    "  # df in flattened form:\n",
    "  df_flat <- as.list(t(df))\n",
    "  names(df_flat) <- vnames\n",
    "  \n",
    "  # Identify the cells in df with missing values.\n",
    "  missing <- names(which(is.na(df_flat)))\n",
    "  miss_cols <- mapply(get_column, missing)\n",
    "  miss_rows <- mapply(get_row, missing)\n",
    "  names(miss_rows) <- names(miss_cols) <- missing\n",
    "  \n",
    "  # Fill the missing values in each column.\n",
    "  ### NOTE: We can increase the speed of this loop by walking through\n",
    "  ### only those columns with missing values.  This is easy to do, and\n",
    "  ### becomes more important as the number of variables in the dataset\n",
    "  ### increases.  (This is implemented in the Transposed Columns approach.)  \n",
    "  for(i in 1:dim(df)[2]) {\n",
    "    cells <- names(miss_cols[as.numeric(miss_cols)== i])\n",
    "    rows <-as.numeric(miss_rows[cells])\n",
    "    df[rows, i] <- imputed_vals[i]\n",
    "  }\n",
    "    \n",
    "  stop <- Sys.time()\n",
    "  delta <- as.numeric(stop - start)\n",
    "  return(delta)\n",
    "}\n"
   ]
  },
  {
   "cell_type": "code",
   "execution_count": 23,
   "metadata": {},
   "outputs": [
    {
     "data": {
      "text/html": [
       "0.3013"
      ],
      "text/latex": [
       "0.3013"
      ],
      "text/markdown": [
       "0.3013"
      ],
      "text/plain": [
       "[1] 0.3013"
      ]
     },
     "metadata": {},
     "output_type": "display_data"
    }
   ],
   "source": [
    "# Run the test.\n",
    "\n",
    "result <- 0\n",
    "for(i in 1:length(smp)) {\n",
    "  seed <- 8871 * i\n",
    "  nv_time <- method_vector(smp[i], seed)\n",
    "  result <- result + nv_time\n",
    "}\n",
    "(nv_avg_time_tst01 <- round(result/length(smp), 4))\n",
    "# 0.3013 second\n"
   ]
  },
  {
   "cell_type": "markdown",
   "metadata": {},
   "source": [
    "**Named Vector 100 trials, test01 average time:**    **0.3013 seconds**\n",
    "\n",
    "\n",
    "For the Sequential Walk-Through method, this test result was 2.2681 seconds.  In other words, the Named Vector approach is **7.5 times faster** on this test set.\n",
    "\n"
   ]
  },
  {
   "cell_type": "markdown",
   "metadata": {},
   "source": [
    "### Named Vector Results for 100 trials: *larger* sets of NAs"
   ]
  },
  {
   "cell_type": "code",
   "execution_count": 24,
   "metadata": {},
   "outputs": [],
   "source": [
    "# Get exactly the same test set for the test02 test above.\n",
    "\n",
    "set.seed(99871)\n",
    "smp <- sample(20000:50000, 100, replace= FALSE)\n"
   ]
  },
  {
   "cell_type": "code",
   "execution_count": 25,
   "metadata": {},
   "outputs": [
    {
     "data": {
      "text/html": [
       "0.7867"
      ],
      "text/latex": [
       "0.7867"
      ],
      "text/markdown": [
       "0.7867"
      ],
      "text/plain": [
       "[1] 0.7867"
      ]
     },
     "metadata": {},
     "output_type": "display_data"
    }
   ],
   "source": [
    "# Run the test.\n",
    "\n",
    "result <- 0\n",
    "for(i in 1:length(smp)) {\n",
    "  seed <- 8871 * i\n",
    "  nv_time <- method_vector(smp[i], seed)\n",
    "  result <- result + nv_time\n",
    "}\n",
    "(nv_avg_time_tst02 <- round(result/length(smp), 4))\n",
    "# 0.7867 second\n"
   ]
  },
  {
   "cell_type": "markdown",
   "metadata": {},
   "source": [
    "**Named Vector 100 trials, test02 average time:  0.7867 seconds**\n",
    "\n",
    "\n",
    "For the Sequential Walk-Through method, this test result was 3.0131 seconds.  So the Named Vector approach is **3.8 times faster** on this test set.\n"
   ]
  },
  {
   "cell_type": "markdown",
   "metadata": {},
   "source": [
    "### Comments"
   ]
  },
  {
   "cell_type": "markdown",
   "metadata": {},
   "source": [
    "On average, across 200 trials, the Named Vector approach is about **5.65** times faster than the Sequential Walk-Through approach.  \n"
   ]
  },
  {
   "cell_type": "markdown",
   "metadata": {},
   "source": [
    "## Transposed Columns Approach"
   ]
  },
  {
   "cell_type": "markdown",
   "metadata": {},
   "source": [
    "Here is a better way to vectorize the process."
   ]
  },
  {
   "cell_type": "code",
   "execution_count": 26,
   "metadata": {},
   "outputs": [],
   "source": [
    "df <- modDat[, c(1:9, 12:15)]\n"
   ]
  },
  {
   "cell_type": "code",
   "execution_count": 27,
   "metadata": {},
   "outputs": [],
   "source": [
    "# Again create some missing values in df for an initial test.\n",
    "\n",
    "# As above (in the Sequential Walk-Trhough section) insert NA in\n",
    "# 10,000 randomly selected cells of the dataframe.  The same \n",
    "# seed is used from the above, corresponding test.\n",
    "\n",
    "set.seed(4331)\n",
    "n <- 10000\n",
    "yy <- sample(1:13, n, replace= TRUE)\n",
    "xx <- sample(1:nrow(df), n, replace= FALSE)\n",
    "\n",
    "for(i in 1:n) {\n",
    "  df[xx[i], yy[i]] <- NA\n",
    "}\n"
   ]
  },
  {
   "cell_type": "code",
   "execution_count": 28,
   "metadata": {},
   "outputs": [
    {
     "name": "stdout",
     "output_type": "stream",
     "text": [
      "        1         2         3         4         5         6         7         8 \n",
      "  -118.50     34.26     29.00   2125.00    436.00   1165.50    409.00      3.53 \n",
      "        9        10        11        12        13 \n",
      "179800.00      7.72      5.23      0.20      2.82 \n"
     ]
    }
   ],
   "source": [
    "# Compute the median of each variable.\n",
    "\n",
    "imputed_vals <- rep(NA, dim(df)[2])\n",
    "for(i in 1:length(imputed_vals)) {\n",
    "  imputed_vals[i] <- median(df[, i], na.rm= TRUE)\n",
    "}\n",
    "named_imputed_vals <- imputed_vals\n",
    "names(named_imputed_vals) <- 1:13\n",
    "print(round(named_imputed_vals, 2))\n"
   ]
  },
  {
   "cell_type": "code",
   "execution_count": 29,
   "metadata": {},
   "outputs": [
    {
     "name": "stdout",
     "output_type": "stream",
     "text": [
      "[1]   5  25 102 128 194 228\n"
     ]
    }
   ],
   "source": [
    "# Identify the cells which have missing values.\n",
    "# Note the transposing of the dataframe.\n",
    "\n",
    "ans <- which(is.na(t(df)))\n",
    "print(head(ans))  \n",
    "# [1]   5    25   102   128   194   228\n"
   ]
  },
  {
   "cell_type": "code",
   "execution_count": 30,
   "metadata": {},
   "outputs": [
    {
     "data": {
      "text/html": [
       "<style>\n",
       ".list-inline {list-style: none; margin:0; padding: 0}\n",
       ".list-inline>li {display: inline-block}\n",
       ".list-inline>li:not(:last-child)::after {content: \"\\00b7\"; padding: 0 .5ex}\n",
       "</style>\n",
       "<ol class=list-inline><li>5</li><li>12</li><li>11</li><li>11</li><li>12</li><li>7</li></ol>\n"
      ],
      "text/latex": [
       "\\begin{enumerate*}\n",
       "\\item 5\n",
       "\\item 12\n",
       "\\item 11\n",
       "\\item 11\n",
       "\\item 12\n",
       "\\item 7\n",
       "\\end{enumerate*}\n"
      ],
      "text/markdown": [
       "1. 5\n",
       "2. 12\n",
       "3. 11\n",
       "4. 11\n",
       "5. 12\n",
       "6. 7\n",
       "\n",
       "\n"
      ],
      "text/plain": [
       "[1]  5 12 11 11 12  7"
      ]
     },
     "metadata": {},
     "output_type": "display_data"
    }
   ],
   "source": [
    "# Extracting the modulo gives us the column number; 0 = 13.\n",
    "\n",
    "(remainder <- head(ans) %% 13)\n"
   ]
  },
  {
   "cell_type": "code",
   "execution_count": 31,
   "metadata": {},
   "outputs": [
    {
     "data": {
      "text/html": [
       "<style>\n",
       ".list-inline {list-style: none; margin:0; padding: 0}\n",
       ".list-inline>li {display: inline-block}\n",
       ".list-inline>li:not(:last-child)::after {content: \"\\00b7\"; padding: 0 .5ex}\n",
       "</style>\n",
       "<ol class=list-inline><li>1</li><li>2</li><li>8</li><li>10</li><li>15</li><li>18</li></ol>\n"
      ],
      "text/latex": [
       "\\begin{enumerate*}\n",
       "\\item 1\n",
       "\\item 2\n",
       "\\item 8\n",
       "\\item 10\n",
       "\\item 15\n",
       "\\item 18\n",
       "\\end{enumerate*}\n"
      ],
      "text/markdown": [
       "1. 1\n",
       "2. 2\n",
       "3. 8\n",
       "4. 10\n",
       "5. 15\n",
       "6. 18\n",
       "\n",
       "\n"
      ],
      "text/plain": [
       "[1]  1  2  8 10 15 18"
      ]
     },
     "metadata": {},
     "output_type": "display_data"
    }
   ],
   "source": [
    "# Integer dividing by 13 gives us the row number:\n",
    "\n",
    "head(ans) %/% 13 + ceiling(remainder/dim(df)[2])\n"
   ]
  },
  {
   "cell_type": "code",
   "execution_count": 32,
   "metadata": {},
   "outputs": [
    {
     "data": {
      "text/html": [
       "<style>\n",
       ".list-inline {list-style: none; margin:0; padding: 0}\n",
       ".list-inline>li {display: inline-block}\n",
       ".list-inline>li:not(:last-child)::after {content: \"\\00b7\"; padding: 0 .5ex}\n",
       "</style>\n",
       "<ol class=list-inline><li>1</li><li>2</li><li>3</li><li>4</li><li>5</li><li>6</li><li>7</li><li>8</li><li>9</li><li>10</li><li>11</li><li>12</li><li>13</li></ol>\n"
      ],
      "text/latex": [
       "\\begin{enumerate*}\n",
       "\\item 1\n",
       "\\item 2\n",
       "\\item 3\n",
       "\\item 4\n",
       "\\item 5\n",
       "\\item 6\n",
       "\\item 7\n",
       "\\item 8\n",
       "\\item 9\n",
       "\\item 10\n",
       "\\item 11\n",
       "\\item 12\n",
       "\\item 13\n",
       "\\end{enumerate*}\n"
      ],
      "text/markdown": [
       "1. 1\n",
       "2. 2\n",
       "3. 3\n",
       "4. 4\n",
       "5. 5\n",
       "6. 6\n",
       "7. 7\n",
       "8. 8\n",
       "9. 9\n",
       "10. 10\n",
       "11. 11\n",
       "12. 12\n",
       "13. 13\n",
       "\n",
       "\n"
      ],
      "text/plain": [
       " [1]  1  2  3  4  5  6  7  8  9 10 11 12 13"
      ]
     },
     "metadata": {},
     "output_type": "display_data"
    },
    {
     "data": {
      "text/html": [
       "10000"
      ],
      "text/latex": [
       "10000"
      ],
      "text/markdown": [
       "10000"
      ],
      "text/plain": [
       "[1] 10000"
      ]
     },
     "metadata": {},
     "output_type": "display_data"
    }
   ],
   "source": [
    "# Get columns with missing values.\n",
    "\n",
    "remainder <- ans %% 13\n",
    "columns <- remainder\n",
    "columns[which(columns==0)] <- 13\n",
    "cols_uniq <- sort(unique(columns)); cols_uniq\n",
    "\n",
    "length(columns)\n",
    "# 10,000\n"
   ]
  },
  {
   "cell_type": "code",
   "execution_count": 33,
   "metadata": {},
   "outputs": [
    {
     "data": {
      "text/html": [
       "10000"
      ],
      "text/latex": [
       "10000"
      ],
      "text/markdown": [
       "10000"
      ],
      "text/plain": [
       "[1] 10000"
      ]
     },
     "metadata": {},
     "output_type": "display_data"
    }
   ],
   "source": [
    "# Get rows with missing values.\n",
    "\n",
    "rows <- ans %/% 13 + ceiling(remainder/dim(df)[2])\n",
    "length(rows)\n",
    "# 10,000\n"
   ]
  },
  {
   "cell_type": "code",
   "execution_count": 34,
   "metadata": {},
   "outputs": [
    {
     "name": "stdout",
     "output_type": "stream",
     "text": [
      " 1  2  8 10 15 18 \n",
      " 5 12 11 11 12  7 \n"
     ]
    }
   ],
   "source": [
    "# Name each column entry by its row:\n",
    "\n",
    "names(columns) <- as.character(rows)\n",
    "print(head(columns))\n"
   ]
  },
  {
   "cell_type": "code",
   "execution_count": 35,
   "metadata": {},
   "outputs": [],
   "source": [
    "# Fill the cells which have missing values.\n",
    "\n",
    "for(col in cols_uniq) {\n",
    "  rowsTofill <- as.numeric(names(columns[as.numeric(columns)==col]))\n",
    "  df[rowsTofill, col] <- imputed_vals[col]\n",
    "}\n"
   ]
  },
  {
   "cell_type": "code",
   "execution_count": 36,
   "metadata": {},
   "outputs": [
    {
     "data": {
      "text/html": [
       "'All is good!'"
      ],
      "text/latex": [
       "'All is good!'"
      ],
      "text/markdown": [
       "'All is good!'"
      ],
      "text/plain": [
       "[1] \"All is good!\""
      ]
     },
     "metadata": {},
     "output_type": "display_data"
    }
   ],
   "source": [
    "# Check that the fill worked as expected.\n",
    "# NOTE: 'miss_rows' and 'miss_cols' were created above,\n",
    "# in the Named Vector section.\n",
    "\n",
    "all_good <- FALSE\n",
    "incorrect <- 0\n",
    "for(i in 1:length(columns)) {\n",
    "    val <- round(df[as.numeric(miss_rows[i]), as.numeric(miss_cols[i])], 2)\n",
    "    true_val <- round(imputed_vals[miss_cols[i]], 2)\n",
    "    if(val != true_val) { incorrect <- incorrect + 1 }\n",
    "}\n",
    "if(incorrect == 0) { all_good <- TRUE }\n",
    "ifelse(all_good, \"All is good!\", \"Fill did not work!\")\n"
   ]
  },
  {
   "cell_type": "markdown",
   "metadata": {},
   "source": [
    "### Transposed Columns Results for 100 trials: *smaller* sets of NAs"
   ]
  },
  {
   "cell_type": "code",
   "execution_count": 9,
   "metadata": {},
   "outputs": [],
   "source": [
    "# This function constructs a dataframe with missing values\n",
    "# and then fills in the missing values using the above Transposed\n",
    "# Columns approach.\n",
    "\n",
    "tc02 <- function(n_vals, seed) {\n",
    "  \n",
    "  df <- modDat[, c(1:9, 12:15)]\n",
    "  set.seed(seed)\n",
    "  yy <- sample(1:13, n_vals, replace= TRUE)\n",
    "  xx <- sample(1:nrow(df), n_vals, replace= TRUE)\n",
    "  \n",
    "  for(i in 1:n_vals) {\n",
    "    df[xx[i], yy[i]] <- NA\n",
    "  }\n",
    "  \n",
    "  imputed_vals <- rep(NA, dim(df)[2])\n",
    "  for(i in 1:length(imputed_vals)) {\n",
    "    imputed_vals[i] <- median(df[, i], na.rm= TRUE)\n",
    "  }\n",
    "  \n",
    "  start <- Sys.time()\n",
    "  # Identify the cells which have missing values.\n",
    "  df_t <- which(is.na(t(df)))\n",
    "  \n",
    "  ## get columns with missing values\n",
    "  remainder <- df_t %% 13\n",
    "  columns <- remainder\n",
    "  columns[which(columns==0)] <- 13\n",
    "  cols_uniq <- sort(unique(columns))\n",
    "  \n",
    "  ## get rows with missing values\n",
    "  rows <- df_t %/% 13 + ceiling(remainder/dim(df)[2])\n",
    "  # Name each column entry by its row:\n",
    "  names(columns) <- as.character(rows)\n",
    "  \n",
    "  for(col in cols_uniq) {\n",
    "    rowsTofill <- as.numeric(names(columns[as.numeric(columns)==col]))\n",
    "    df[rowsTofill, col] <- imputed_vals[col]\n",
    "  }\n",
    "  stop <- Sys.time()\n",
    "  delta <- as.numeric(stop - start)\n",
    "  return(delta)\n",
    "}\n"
   ]
  },
  {
   "cell_type": "code",
   "execution_count": 66,
   "metadata": {},
   "outputs": [],
   "source": [
    "# Create trial sizes exactly as in the corresponding test above:\n",
    "\n",
    "set.seed(99871)\n",
    "smp <- sample(2000:20000, 100, replace= FALSE)\n"
   ]
  },
  {
   "cell_type": "code",
   "execution_count": 67,
   "metadata": {},
   "outputs": [
    {
     "data": {
      "text/html": [
       "0.0139"
      ],
      "text/latex": [
       "0.0139"
      ],
      "text/markdown": [
       "0.0139"
      ],
      "text/plain": [
       "[1] 0.0139"
      ]
     },
     "metadata": {},
     "output_type": "display_data"
    }
   ],
   "source": [
    "# Run the test.\n",
    "\n",
    "result <- 0\n",
    "for(i in 1:length(smp)) {\n",
    "  seed <- 8871 * i\n",
    "  tc02_time <- tc02(smp[i], seed)\n",
    "  result <- result + tc02_time\n",
    "}\n",
    "(tc_avg_time <- round(result/length(smp), 4))\n",
    "# 0.0139 second\n"
   ]
  },
  {
   "cell_type": "markdown",
   "metadata": {},
   "source": [
    "**Transposed Columns 100 trials, test01 average time:**    **0.0139 seconds**\n",
    "\n",
    "\n",
    "For the Sequential Walk-Through method, this test result was 2.2681 seconds.  In other words, the Transposed Columns approach is **163 times faster** on this test set.\n"
   ]
  },
  {
   "cell_type": "markdown",
   "metadata": {},
   "source": [
    "### Transposed Columns Results for 100 trials: *larger* sets of NAs"
   ]
  },
  {
   "cell_type": "code",
   "execution_count": 10,
   "metadata": {},
   "outputs": [],
   "source": [
    "# Get exactly the same test set for the test02 test above.\n",
    "\n",
    "set.seed(99871)\n",
    "smp <- sample(20000:50000, 100, replace= FALSE)\n"
   ]
  },
  {
   "cell_type": "code",
   "execution_count": 11,
   "metadata": {},
   "outputs": [
    {
     "data": {
      "text/html": [
       "0.0325"
      ],
      "text/latex": [
       "0.0325"
      ],
      "text/markdown": [
       "0.0325"
      ],
      "text/plain": [
       "[1] 0.0325"
      ]
     },
     "metadata": {},
     "output_type": "display_data"
    }
   ],
   "source": [
    "# Run the test.\n",
    "\n",
    "result <- 0\n",
    "for(i in 1:length(smp)) {\n",
    "  seed <- 8871 * i\n",
    "  tc02_time <- tc02(smp[i], seed)\n",
    "  result <- result + tc02_time\n",
    "}\n",
    "(tc_avg_time <- round(result/length(smp), 4))\n",
    "# 0.0325 second\n"
   ]
  },
  {
   "cell_type": "markdown",
   "metadata": {},
   "source": [
    "**Transposed Columns 100 trials, test02 average time:**    **0.0325 seconds**\n",
    "\n",
    "\n",
    "For the Sequential Walk-Through method, this test result was 3.0131 seconds.  So the Transposed Columns approach is **93 times faster** on this test set.\n",
    "\n"
   ]
  },
  {
   "cell_type": "markdown",
   "metadata": {},
   "source": [
    "## Final Comments"
   ]
  },
  {
   "cell_type": "markdown",
   "metadata": {},
   "source": [
    "Across 200 trials and a wide range of percent missing values (as a percent of the number of cells in the dataframe), we see that the Transposed Columns method is, on average, **128 times faster** than the Sequential Walk-Through approach.\n",
    "\n",
    "Call this ratio the *efficiency gain*.  The above results suggest that this gain increases the  smaller the number of missing values that have to be filled in.  It is also reasonable to infer that this gain is proportional to the size of the dataframe that we have to write to. \n",
    "\n",
    "\n",
    "\n",
    "                                    * * * * *\n",
    "                                    "
   ]
  },
  {
   "cell_type": "code",
   "execution_count": null,
   "metadata": {},
   "outputs": [],
   "source": []
  }
 ],
 "metadata": {
  "kernelspec": {
   "display_name": "R",
   "language": "R",
   "name": "ir"
  },
  "language_info": {
   "codemirror_mode": "r",
   "file_extension": ".r",
   "mimetype": "text/x-r-source",
   "name": "R",
   "pygments_lexer": "r",
   "version": "4.0.3"
  }
 },
 "nbformat": 4,
 "nbformat_minor": 4
}
